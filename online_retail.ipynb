{
 "cells": [
  {
   "cell_type": "markdown",
   "metadata": {},
   "source": [
    "# Recommendation in Online Retail"
   ]
  },
  {
   "cell_type": "code",
   "execution_count": 99,
   "metadata": {},
   "outputs": [
    {
     "name": "stdout",
     "output_type": "stream",
     "text": [
      "PgxSession(id: 6c2667b1-0412-4c3f-b34b-b2f257a30bae, name: python_pgx_client)\n"
     ]
    }
   ],
   "source": [
    "import json\n",
    "import os\n",
    "import platform\n",
    "import sys\n",
    "from urllib.request import Request, urlopen\n",
    "from urllib.error import HTTPError\n",
    "import pypgx as pgx\n",
    "\n",
    "base_url = \"http://graph-server:7007\"\n",
    "username = \"graph_dev\"\n",
    "password = \"Welcome1\"\n",
    "\n",
    "def generateToken():\n",
    "    body = json.dumps({ 'username': username, 'password': password }).encode('utf8')\n",
    "    headers = { 'content-type': 'application/json' }\n",
    "    request = Request(base_url + '/auth/token', data=body, headers=headers)\n",
    "    try:\n",
    "        response = urlopen(request).read().decode('utf-8')\n",
    "        return json.loads(response).get('access_token')\n",
    "    except HTTPError as err:\n",
    "        if err.code == 400:\n",
    "            print('Authentication failed no username/password given')\n",
    "        elif err.code == 401:\n",
    "            print('Authentication failed invalid username/password')\n",
    "        else:\n",
    "            print(\"Server returned HTTP response code: {} for URL: {}\".format(err.code, err.url))\n",
    "        os._exit(1)\n",
    " \n",
    "session = pgx.get_session(base_url=base_url, token=generateToken())\n",
    "analyst = session.create_analyst()\n",
    "print(session)"
   ]
  },
  {
   "cell_type": "code",
   "execution_count": 100,
   "metadata": {},
   "outputs": [],
   "source": [
    "statement = '''\n",
    "CREATE PROPERTY GRAPH \"Online Retail\"\n",
    "  VERTEX TABLES (\n",
    "    online_retail.customers\n",
    "      LABEL \"Customer\"\n",
    "      PROPERTIES (\n",
    "        customer_id AS \"customer_id\"\n",
    "      , \"country\"\n",
    "      )\n",
    "  , online_retail.products\n",
    "      LABEL \"Product\"\n",
    "      PROPERTIES (\n",
    "        stock_code AS \"stock_code\"\n",
    "      , \"description\"\n",
    "      )\n",
    "  )\n",
    "  EDGE TABLES (\n",
    "    online_retail.purchases_distinct\n",
    "      KEY (purchase_id)\n",
    "      SOURCE KEY(customer_id) REFERENCES customers\n",
    "      DESTINATION KEY(stock_code) REFERENCES products\n",
    "      LABEL \"has_purchased\"\n",
    "      PROPERTIES (\n",
    "        purchase_id\n",
    "      )\n",
    "  , online_retail.purchases_distinct AS purchases_distinct_2\n",
    "      KEY (purchase_id)\n",
    "      SOURCE KEY(stock_code) REFERENCES products\n",
    "      DESTINATION KEY(customer_id) REFERENCES customers\n",
    "      LABEL \"purchased_by\"\n",
    "      PROPERTIES (\n",
    "        purchase_id\n",
    "      )\n",
    "  )\n",
    "'''"
   ]
  },
  {
   "cell_type": "code",
   "execution_count": 101,
   "metadata": {},
   "outputs": [
    {
     "data": {
      "text/plain": [
       "False"
      ]
     },
     "execution_count": 101,
     "metadata": {},
     "output_type": "execute_result"
    }
   ],
   "source": [
    "#graph.destroy()\n",
    "session.prepare_pgql(statement).execute()"
   ]
  },
  {
   "cell_type": "code",
   "execution_count": 102,
   "metadata": {},
   "outputs": [
    {
     "data": {
      "text/plain": [
       "PgxGraph(name: Online Retail, v: 8258, e: 532452, directed: True, memory(Mb): 10)"
      ]
     },
     "execution_count": 102,
     "metadata": {},
     "output_type": "execute_result"
    }
   ],
   "source": [
    "graph = session.get_graph(\"Online Retail\")\n",
    "graph"
   ]
  },
  {
   "cell_type": "code",
   "execution_count": 103,
   "metadata": {},
   "outputs": [
    {
     "name": "stdout",
     "output_type": "stream",
     "text": [
      "+---------------------------------------------+\n",
      "| ID(n) | n.description                       |\n",
      "+---------------------------------------------+\n",
      "| 4339  | SET OF 3 HEART COOKIE CUTTERS       |\n",
      "| 4340  | STRIPEY CHOCOLATE NESTING BOXES     |\n",
      "| 4341  | incorrectly credited C550456 see 47 |\n",
      "+---------------------------------------------+\n",
      "\n"
     ]
    }
   ],
   "source": [
    "graph.query_pgql(\" SELECT ID(n), n.description MATCH (n:Product) LIMIT 3 \").print()"
   ]
  },
  {
   "cell_type": "code",
   "execution_count": 104,
   "metadata": {
    "scrolled": true
   },
   "outputs": [
    {
     "name": "stdout",
     "output_type": "stream",
     "text": [
      "+----------------------------------------------------+\n",
      "| ID(c) | ID(p) | description                        |\n",
      "+----------------------------------------------------+\n",
      "| 4014  | 5009  | MINI CAKE STAND WITH HANGING CAKES |\n",
      "| 4014  | 5852  | NOVELTY BISCUITS CAKE STAND 3 TIER |\n",
      "| 4014  | 6678  | CERAMIC CAKE STAND + HANGING CAKES |\n",
      "| 4014  | 7353  | CERAMIC CAKE BOWL + HANGING CAKES  |\n",
      "+----------------------------------------------------+\n",
      "\n"
     ]
    }
   ],
   "source": [
    "graph.query_pgql(\"SELECT ID(c), ID(p), p.description FROM MATCH (c)->(p) WHERE c.customer_id = 'cust_12353'\").print()"
   ]
  },
  {
   "cell_type": "code",
   "execution_count": 105,
   "metadata": {},
   "outputs": [
    {
     "data": {
      "text/plain": [
       "VertexProperty(name: ppr, type: double, graph: Online Retail)"
      ]
     },
     "execution_count": 105,
     "metadata": {},
     "output_type": "execute_result"
    }
   ],
   "source": [
    "rs = graph.query_pgql(\"SELECT ID(c) FROM MATCH (c) WHERE c.customer_id = 'cust_12353'\")\n",
    "vertex = graph.get_vertex(rs.get_row(0))\n",
    "graph.destroy_vertex_property_if_exists(\"ppr\")\n",
    "analyst.personalized_pagerank(graph, vertex, rank=\"ppr\")"
   ]
  },
  {
   "cell_type": "code",
   "execution_count": 106,
   "metadata": {},
   "outputs": [
    {
     "name": "stdout",
     "output_type": "stream",
     "text": [
      "+--------------------------------------------------------------------+\n",
      "| ID(p) | description                        | ppr                   |\n",
      "+--------------------------------------------------------------------+\n",
      "| 7991  | REGENCY CAKESTAND 3 TIER           | 0.0013483656895780102 |\n",
      "| 6394  | WHITE HANGING HEART T-LIGHT HOLDER | 0.001300076481737166  |\n",
      "| 5722  | STRAWBERRY CERAMIC TRINKET POT     | 0.0010642787031750636 |\n",
      "| 5442  | SET OF 3 CAKE TINS PANTRY DESIGN   | 9.987259826891447E-4  |\n",
      "| 4940  | PARTY BUNTING                      | 8.800446053134877E-4  |\n",
      "| 7118  | SWEETHEART CERAMIC TRINKET BOX     | 8.793185974570989E-4  |\n",
      "| 7518  | PACK OF 72 RETROSPOT CAKE CASES    | 7.74948580210001E-4   |\n",
      "| 5299  | 60 TEATIME FAIRY CAKE CASES        | 7.561654694509065E-4  |\n",
      "| 5100  | JUMBO BAG RED RETROSPOT            | 7.258904143858246E-4  |\n",
      "| 6538  | ASSORTED COLOUR BIRD ORNAMENT      | 7.223349157689754E-4  |\n",
      "+--------------------------------------------------------------------+\n",
      "\n"
     ]
    }
   ],
   "source": [
    "graph.query_pgql(\"\"\"\n",
    "  SELECT ID(p), p.description, p.ppr\n",
    "  FROM MATCH (p)\n",
    "  WHERE LABEL(p) = 'Product'\n",
    "    AND NOT EXISTS (\n",
    "      SELECT *\n",
    "      FROM MATCH (p)-[:purchased_by]->(c)\n",
    "      WHERE c.customer_id = 'cust_12353'\n",
    "    )\n",
    "  ORDER BY p.ppr DESC\n",
    "  LIMIT 10\n",
    "\"\"\").print()"
   ]
  },
  {
   "cell_type": "code",
   "execution_count": null,
   "metadata": {},
   "outputs": [],
   "source": [
    "SELECT *\n",
    "MATCH (c1)-[e1]->(p1)<-[e2]-(c2)-[e3]->(p2)\n",
    "WHERE c1.CUSTOMER_ID = 'cust_12353'\n",
    "  AND p2.STOCK_CODE = 'prod_23166'\n",
    "  AND ID(c1) != ID(c2)\n",
    "  AND ID(p1) != ID(p2)"
   ]
  }
 ],
 "metadata": {
  "kernelspec": {
   "display_name": "Python 3",
   "language": "python",
   "name": "python3"
  },
  "language_info": {
   "codemirror_mode": {
    "name": "ipython",
    "version": 3
   },
   "file_extension": ".py",
   "mimetype": "text/x-python",
   "name": "python",
   "nbconvert_exporter": "python",
   "pygments_lexer": "ipython3",
   "version": "3.8.6"
  }
 },
 "nbformat": 4,
 "nbformat_minor": 4
}
